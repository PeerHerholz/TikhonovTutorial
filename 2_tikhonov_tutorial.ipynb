{
 "cells": [
  {
   "cell_type": "markdown",
   "metadata": {},
   "source": [
    "# Tutorial on Encoding Models with Word Embeddings\n",
    "for NeuroHackademy 2020, by Alex Huth\n"
   ]
  },
  {
   "cell_type": "code",
   "execution_count": null,
   "metadata": {},
   "outputs": [],
   "source": [
    "# Load some basic stuff we'll need later\n",
    "%config InlineBackend.figure_format = 'retina'\n",
    "%matplotlib inline\n",
    "import matplotlib.pyplot as plt\n",
    "import numpy as np"
   ]
  },
  {
   "cell_type": "markdown",
   "metadata": {},
   "source": [
    "# Part 2: Regularized (Ridge) Regression\n",
    "\n",
    "Remember when we talked about the noise term, $\\epsilon(t)$? We said it was any part of $y(t)$ that couldn't be predicted from $x(t)$. We can write this mathematically as the difference between $y(t)$ and the predicted value based on $x(t)$ and our estimated weights (this comes from re-arranging the equation listed under \"Define the model\" above):\n",
    "\n",
    "$$\\epsilon(t) = y(t) - x(t) \\beta_{OLS}$$\n",
    "\n",
    "Huh. When we write it this way, it looks a lot like the loss function $\\mathcal{L}(\\beta)$, doesn't it? In fact, the loss function is exactly the sum of the squared errors. This means our OLS regression model made the assumption that _$\\epsilon(t)$ is as small as possible_, because we selected $\\beta_{OLS}$ to minimize the size of the loss.\n",
    "\n",
    "This all seems sensible in some situations. We don't know a priori which parts of $y(t)$ are signal (i.e. predictable from $x(t)$) and which parts are noise, so why not try to predict as much as possible? Well, it's time for "
   ]
  },
  {
   "cell_type": "markdown",
   "metadata": {},
   "source": [
    "<span style=\"color:red; font-family:Snell Roundhand, cursive; font-size: 24pt\">**A CAUTIONARY TALE**</span>.\n",
    "\n",
    "<span style=\"color:red; font-style:italic\">\n",
    "A young neuroscientist is performing an experiment.\n",
    "</span>\n",
    "\n",
    "<span style=\"color:red; font-style:italic\">\n",
    "\"I just scanned a brain, and my scanning machine gave me big lists of numbers,\" they said, \"I _know_ that the data from the scanning machine is always noisy, but I'm just going to try to fit a model that makes my total error small. What could be finer than finding small error?\"\n",
    "<span>"
   ]
  },
  {
   "cell_type": "code",
   "execution_count": null,
   "metadata": {},
   "outputs": [],
   "source": [
    "cautionary_data = np.load(\"data/we_word_embeddings/a_cautionary_tale.npz\")\n",
    "\n",
    "X_train = cautionary_data[\"X_train\"]\n",
    "X_test = cautionary_data[\"X_test\"]\n",
    "Y_train = cautionary_data[\"Y_train\"]\n",
    "Y_test = cautionary_data[\"Y_test\"]\n",
    "beta_true = cautionary_data[\"beta_true\"]"
   ]
  },
  {
   "cell_type": "code",
   "execution_count": null,
   "metadata": {},
   "outputs": [],
   "source": [
    "X_train.shape, X_test.shape, Y_train.shape, Y_test.shape, beta_true.shape"
   ]
  },
  {
   "cell_type": "markdown",
   "metadata": {},
   "source": [
    "<span style=\"color:red; font-style:italic\">\n",
    "The young neuroscientist diligently fired up their Jupyter notebook and ran an ordinary least squares regression using the noisy data. At first, the result was amazing! The loss was tiny! The model explained 99.9% of the variance in the training dataset! This seemed like the breakthrough that the young neuroscientist had been waiting for.\n",
    "</span>"
   ]
  },
  {
   "cell_type": "code",
   "execution_count": null,
   "metadata": {},
   "outputs": [],
   "source": [
    "beta_estimate = np.linalg.lstsq(X_train, Y_train)[0]\n",
    "\n",
    "training_loss = ((X_train.dot(beta_estimate) - Y_train)**2).sum()\n",
    "print(\"training loss:\", training_loss)\n",
    "print(\"training R^2:\", 1 - training_loss / (Y_train**2).sum())"
   ]
  },
  {
   "cell_type": "markdown",
   "metadata": {},
   "source": [
    "<span style=\"color:red; font-style:italic\">\n",
    "But upon further reflection, the young neuroscientist realized that something was amiss. The result was not as good as it seemed to be. The young neuroscientist exclaimed, \"What's this? Can it be? My regression weights make no sense! Some values are huge, some values are tiny, and if I try to predict on held-out test data, the result is abhorrent! Oh, woe is me! Why did I try to exactly minimize error?? _WHY??_\"\n",
    "</span>"
   ]
  },
  {
   "cell_type": "code",
   "execution_count": null,
   "metadata": {},
   "outputs": [],
   "source": [
    "print(\"estimated beta:\", beta_estimate)\n",
    "\n",
    "Y_test_pred = X_test.dot(beta_estimate)\n",
    "print(\"Correlation between true & predicted Y_test:\", np.corrcoef(Y_test, Y_test_pred)[0,1])"
   ]
  },
  {
   "cell_type": "markdown",
   "metadata": {},
   "source": [
    "I hope this sorry story has convinced you that perfectly minimizing error can cause problems. And the alternative viewpoint just seems like common sense: if you _know_ that your data are noisy, then it just doesn't make sense to make your noise term as small as possible--especially if \"as small as possible\" might mean that you could have _zero noise_.\n",
    "\n",
    "_(Aside: under what situations would you expect the OLS loss to become exactly zero?)_\n",
    "\n",
    "The solution to this problem is **regularization**, which is a family of techniques for adding extra constraints to regression models that balance against simply minimizing loss. The particular technique that we will discuss in detail today is called **ridge regression** or [**Tikhonov regularization**](https://en.wikipedia.org/wiki/Tikhonov_regularization).\n",
    "\n",
    "### Intuition behind ridge regression\n",
    "The problem with OLS regression is that it is _overconfident_ in its estimation of the weights $\\beta_{OLS}$. While attempting to minimize loss, OLS will allow the weights to take on any values, even extreme and bizarre values that are incredibly unlikely to accurately reflect reality. Ridge regression solves this problem by forcing the values in $\\beta$ to be small (i.e. close to zero).\n",
    "\n",
    "This is roughly equivalent to assuming that the noise term, $\\epsilon(t)$, is large (or, at least, larger than it would have otherwise been). You can see this by thinking about the equation for the noise term: $\\epsilon(t) = y(t) - x(t) \\beta$. We know that $\\epsilon(t)$ really shouldn't be any bigger than $y(t)$--worst case we can set $\\beta=0$ and then we get an exact equivalence. If weights $\\beta_{OLS}$ exactly minimize the size of the noise term, then making the weights smaller will necessarily make the noise term bigger.\n",
    "\n",
    "### Ridge regression\n",
    "The simplest way to describe ridge regression mathematically is including a **penalty** on the size of the weights in the loss function. Specifically, ridge regression penalizes the sum of the squared weights, leading to a new and improved loss function that we'll call $\\mathcal{L}_{ridge}(\\beta)$:\n",
    "\n",
    "$$ \\mathcal{L}_{ridge}(\\beta) = \\sum_{t=1}^T (y(t) - x(t) \\beta)^2 + \\lambda \\sum_{i=1}^p \\beta_i^2 $$\n",
    "\n",
    "or, in fancy linear algebra terms:\n",
    "\n",
    "$$ \\mathcal{L}_{ridge}(\\beta) = (Y - X\\beta)^\\top (Y - X \\beta) + \\lambda \\beta^\\top \\beta $$\n",
    "\n",
    "The first term on the right hand side of this equation is the same squared error loss that we used before for OLS. The second term is the sum of the squares of all the weights in $\\beta$, multiplied by a scalar variable $\\lambda$ that we will call the **ridge coefficient**.\n",
    "\n",
    "The ridge coefficient $\\lambda$ determines the _strength_ of the regularization that's applied in ridge regression: \n",
    "* If you give $\\lambda$ a large value, then the penalty term will be big relative to the loss, and the resulting weights will be very small. (In the limit of very large $\\lambda$ you will force the weights to be almost exactly zero!) \n",
    "* If you give $\\lambda$ a small value, then the penalty term will be small relative to the loss, and the resulting weights will not be too different from the OLS weights. (In the limit of $\\lambda \\rightarrow 0$, the penalty term will be zero and you'll get back exactly the OLS solution!)\n",
    "\n",
    "To get the ridge regression weights, $\\beta_{ridge}$, you minimize the ridge loss function. We don't need to go through the full derivation of the solution (though it's pretty fun, and easy to do based on the matrix calculus we did for the OLS solution!), so let's just take a look at the answer:\n",
    "\n",
    "$$ \\beta_{ridge} = (X^\\top X + \\lambda I)^{-1} X^\\top Y $$\n",
    "\n",
    "The only difference between this and the previous $\\beta_{OLS}$ solution is that we added the factor $\\lambda I$ (where $I$ is the identity matrix, the linear algebra equivalent of the number 1) inside the matrix inverse. Pretty simple! \n",
    "\n",
    "Let's try it out on the data from our cautionary tale."
   ]
  },
  {
   "cell_type": "code",
   "execution_count": null,
   "metadata": {},
   "outputs": [],
   "source": [
    "# let's start by picking a lambda. THIS IS NOT HOW THIS IS USUALLY DONE! This is just illustrative\n",
    "ridge_lambda = 10.0\n",
    "\n",
    "# then we'll compute the ridge weights using exactly the formula listed above\n",
    "# (as before, this is not used in practice. It's slow and numerically unstable. But simple and clear!)\n",
    "beta_estimate_ridge = np.linalg.inv(X_train.T.dot(X_train) + ridge_lambda * np.eye(98)).dot(X_train.T).dot(Y_train)"
   ]
  },
  {
   "cell_type": "code",
   "execution_count": null,
   "metadata": {},
   "outputs": [],
   "source": [
    "# before doing more, let's compare the weights we get from ridge to the OLS weights & true weights\n",
    "print(\"ridge estimated beta:\", beta_estimate_ridge)\n",
    "print(\"OLS estimated beta:\", beta_estimate)\n",
    "print(\"true beta:\", beta_true)\n",
    "\n",
    "# you should see that the size of the ridge estimates is much closer to the original weights, which is good!"
   ]
  },
  {
   "cell_type": "code",
   "execution_count": null,
   "metadata": {},
   "outputs": [],
   "source": [
    "# Now let's compute the training loss\n",
    "training_loss_ridge = ((X_train.dot(beta_estimate_ridge) - Y_train)**2).sum()\n",
    "print(\"training loss:\", training_loss_ridge)\n",
    "print(\"training R^2:\", 1 - training_loss_ridge / (Y_train**2).sum())\n",
    "\n",
    "# the loss value should be bigger than before (about 104 vs. 2.5)\n",
    "# and the training R^2 should be smaller than before (about 0.988 instead of 0.999)\n",
    "# why?"
   ]
  },
  {
   "cell_type": "code",
   "execution_count": null,
   "metadata": {},
   "outputs": [],
   "source": [
    "# finally let's test how well our model generalizes to the test dataset\n",
    "Y_test_pred = X_test.dot(beta_estimate_ridge)\n",
    "print(\"Correlation between true & predicted Y_test:\", np.corrcoef(Y_test, Y_test_pred)[0,1])\n",
    "\n",
    "# this should be MUCH HIGHER than before! (0.6 vs. 0.03)"
   ]
  },
  {
   "cell_type": "markdown",
   "metadata": {},
   "source": [
    "## Ridge regression for an fMRI analysis\n",
    "\n",
    "Let's try to use this method now for the same [fMRI experiment](https://www.nature.com/articles/nature17637) that we tried with OLS. The model will be essentially identical to the OLS model, the only difference being that we will use ridge regression.\n",
    "\n"
   ]
  },
  {
   "cell_type": "code",
   "execution_count": null,
   "metadata": {},
   "outputs": [],
   "source": [
    "# let's load up the feature matrices\n",
    "# these were stored as \"sparse\" matrices in order to save space\n",
    "# but we'll convert them back to normal matrices in order to use them in our regression\n",
    "from scipy import sparse\n",
    "training_features = sparse.load_npz('data/we_word_embeddings/indicator_Rstim.npz').todense().A\n",
    "test_features = sparse.load_npz('data/we_word_embeddings/indicator_Pstim.npz').todense().A\n",
    "\n",
    "# and the brain responses\n",
    "import tables\n",
    "response_tf = tables.open_file('data/we_word_embeddings/small-fmri-responses.hdf5')\n",
    "training_resp = response_tf.root.zRresp.read()\n",
    "test_resp = response_tf.root.zPresp.read()\n",
    "brain_mask = response_tf.root.mask.read()\n",
    "response_tf.close()\n",
    "\n",
    "# as before, to accurately predict BOLD responses we need to account for hemodynamic delays\n",
    "# we'll do that here by creating multiple time-shifted versions of the same stimulus\n",
    "# this is called a finite impulse response or FIR model\n",
    "\n",
    "from util import make_delayed\n",
    "delays = [1,2,3,4]\n",
    "\n",
    "del_training_features = make_delayed(training_features, delays)\n",
    "del_test_features = make_delayed(test_features, delays)"
   ]
  },
  {
   "cell_type": "code",
   "execution_count": null,
   "metadata": {},
   "outputs": [],
   "source": [
    "# # If we were doing this for real, we would run this part, which uses cross-validation\n",
    "# # to find the best lambda for each voxel.\n",
    "# # But that's time-consuming and annoying, so we're going to skip it here.\n",
    "\n",
    "# from ridge import bootstrap_ridge\n",
    "# import logging\n",
    "# logging.basicConfig(level=logging.INFO)\n",
    "\n",
    "# alphas = np.logspace(0, 2, 10) # Equally log-spaced alphas between 10 and 1000\n",
    "\n",
    "# wt, corr, alphas, bscorrs, valinds = bootstrap_ridge(del_training_features, training_resp, \n",
    "#                                                      del_test_features, test_resp,\n",
    "#                                                      alphas, nboots=1, chunklen=40, nchunks=20,\n",
    "#                                                      singcutoff=1e-10, single_alpha=True)"
   ]
  },
  {
   "cell_type": "code",
   "execution_count": null,
   "metadata": {},
   "outputs": [],
   "source": [
    "# to fit this ridge model we're going to use some code I wrote instead of the simple equation above\n",
    "# this code is part of a package that does the really hard part of ridge regression,\n",
    "# which is choosing the best lambda (called alpha here, apologies)\n",
    "# here we are skipping that step, and just using a value that I know works pretty well\n",
    "# if you want to see how the more complicated procedure works, \n",
    "# check out the `bootstrap_ridge` function in ridge.py\n",
    "\n",
    "from ridge import ridge\n",
    "beta_ridge = ridge(del_training_features, training_resp, alpha=15.)"
   ]
  },
  {
   "cell_type": "code",
   "execution_count": null,
   "metadata": {},
   "outputs": [],
   "source": [
    "beta_ridge.shape\n",
    "# as before, should be total number of features (10808) by number of voxels (5156)"
   ]
  },
  {
   "cell_type": "code",
   "execution_count": null,
   "metadata": {},
   "outputs": [],
   "source": [
    "# now let's test our regression models on the held-out test data\n",
    "pred_test_resp = del_test_features.dot(beta_ridge)\n",
    "\n",
    "import npp # a set of convenience functions I think are missing from numpy :)\n",
    "\n",
    "test_correlations = npp.mcorr(test_resp, pred_test_resp)"
   ]
  },
  {
   "cell_type": "code",
   "execution_count": null,
   "metadata": {},
   "outputs": [],
   "source": [
    "# let's look at the histogram of correlations!\n",
    "plt.hist(test_correlations, 50)\n",
    "plt.xlim(-1, 1)\n",
    "plt.xlabel(\"Linear Correlation\")\n",
    "plt.ylabel(\"Num. Voxels\");"
   ]
  },
  {
   "cell_type": "markdown",
   "metadata": {},
   "source": [
    "This looks much better than before! We now have much bigger positive correlations than negative ones. This model kind of works!"
   ]
  },
  {
   "cell_type": "code",
   "execution_count": null,
   "metadata": {},
   "outputs": [],
   "source": [
    "# let's also look at a brain map of the correlations!\n",
    "\n",
    "import cortex\n",
    "\n",
    "corr_volume = cortex.Volume(test_correlations, 'S1', 'fullhead', mask=brain_mask, vmin=-0.3, vmax=0.3, cmap='RdBu_r')\n",
    "cortex.quickshow(corr_volume, with_curvature=True);"
   ]
  },
  {
   "cell_type": "code",
   "execution_count": null,
   "metadata": {},
   "outputs": [],
   "source": [
    "# you can also look at it in 3D!\n",
    "\n",
    "cortex.webshow(corr_volume, open_browser=False)"
   ]
  },
  {
   "cell_type": "markdown",
   "metadata": {},
   "source": [
    "### Interpreting ridge regression as a \"Gaussian prior\"\n",
    "\n",
    "So we've introduced ridge regression as a \"penalty\" on the loss function, but there's another way to think about ridge regression that is pretty useful in some situations. I want to note that this second interpretation is _exactly mathematically equivalent_ to what you've already seen, it's just a different way of thinking about it.\n",
    "\n",
    "Remember Bayes' rule? $P(a|b) = \\frac{P(b|a) P(a)}{P(b)}$, right? It turns out we can use Bayes' rule to derive ridge regression if we plug in the right variables in the right places. To do this we kind of have to go back to the beginning, but I think it's a much quicker trip once you've already gotten to this point once.\n",
    "\n",
    "From a Bayesian viewpoint, the goal of regression is to find the most probably set of weights ($\\beta$) given the observed data ($x(t), y(t)$). Mathematically, that means we're trying to find the set of weights $\\beta$ that maximize $P(\\beta | x(t), y(t))$ (read as \"probability of $\\beta$ given $x(t)$ and $y(t)$\").\n",
    "\n",
    "We don't really know what $P(\\beta | x(t),y(t))$ is—that's not how we defined our regression model—but we DO know what $P(y(t) | x(t), \\beta)$ is! The assumptions that we've been working with so far (squared error loss, etc.), imply that $P(y(t) | x(t), \\beta)$ is actually a Gaussian distribution (aka Normal distribution). The mean of this distribution is (we assume) $x(t) \\beta$, and it has some variance that we don't know ahead of time (this is the size of the noise term $\\epsilon(t)$). We can write that like this:\n",
    "\n",
    "$$ P(y(t) | x(t), \\beta) = \\mathcal{N}(x(t) \\beta, \\sigma^2), $$\n",
    "where:\n",
    "* $\\mathcal{N}(x(t) \\beta, \\sigma^2)$ denotes a Normal distribution with mean $x(t) \\beta$ and variance $\\sigma^2$.\n",
    "* $\\sigma^2$ is the size of the noise. We don't know what this is yet!\n",
    "\n",
    "Ok now we kind of know what $P(y(t) | x(t), \\beta)$ is, and we know Bayes' rule. We can combine these things to figure out $P(\\beta | y(t), x(t))$, which is the thing we actually want to maximize! Let's see how that goes..\n",
    "\n",
    "$$ P(\\beta | y(t), x(t)) = \\frac{P(y(t) | x(t), \\beta) P(\\beta)}{P(y(t))} $$\n",
    "\n",
    "Huh ok. Bayes' rule says that in order to get the thing we want ($P(\\beta | y(t), x(t))$), we take the thing we know ($P(y(t) | x(t), \\beta)$), multiply it by some weird new thing ($P(\\beta)$), and then divide it by some other weird new thing ($P(y(t)$). Let's step through these different terms, what they mean, and how we can handle them:\n",
    "* $P(y(t) | x(t), \\beta)$. This is the thing we already know. It's sometimes called the \"likelihood\" function. We're modeling it as a Gaussian distribution. All good!\n",
    "* $P(\\beta)$. This is a new one. It's called the \"prior\" distribution on $\\beta$. Think of it as \"given absolutely no information about any of the data, what values of $\\beta$ do we think are more or less likely?\" (Foreshadowing: _this is where the magic will happen._)\n",
    "* $P(y(t))$. This is also a new one. Fortunately, we can ignore it entirely! It doesn't matter one bit what the value of this function is, because it's independent of $\\beta$, so our choice of the best $\\beta$ is unaffected by it! Whew.\n",
    "\n",
    "So clearly the most important new thing here is the prior, $P(\\beta)$. **Let's suppose that $P(\\beta)$ is another Gaussian distribution.** That is, let's say that $P(\\beta) = \\mathcal{N}(0, \\lambda^{-1} I)$, a multivariate Gaussian distribution (because $\\beta$ typically is a vector containing more than one value) with mean zero and covariance $\\lambda^{-1} I$. You may have an inkling of where this is heading now..\n",
    "\n",
    "Let's go back to our full expression for $P(\\beta | y(t), x(t))$ (which is called the posterior distribution on $\\beta$), plug some things in, and see what happens!\n",
    "\n",
    "$$\\begin{eqnarray}\n",
    "P(\\beta | y(t), x(t)) & = & \\frac{P(y(t) | x(t), \\beta) P(\\beta)}{P(y(t))} \\\\\n",
    "P(\\beta | y(t), x(t)) & \\propto & P(y(t) | x(t), \\beta) P(\\beta) \\;\\mbox{ (dropping the denominator)}\\\\\n",
    "P(\\beta | y(t), x(t)) & \\propto & e^{-\\frac{1}{2 \\sigma^2} (y(t) - x(t)\\beta)^2} e^{-\\frac{1}{2} \\beta^\\top (\\lambda^{-1} I)^{-1} \\beta} \\; \\mbox{ (plugging in the definition of a Gaussian distribution)} \\\\\n",
    "P(\\beta | y(t), x(t)) & \\propto & e^{-\\frac{1}{2 \\sigma^2} (y(t) - x(t)\\beta)^2 -\\frac{1}{2} \\beta^\\top (\\lambda^{-1} I)^{-1} \\beta} \\;\\mbox{ (combining exponentials)}\\\\\n",
    "P(\\beta | y(t), x(t)) & \\propto & e^{-\\frac{1}{2 \\sigma^2} (y(t) - x(t)\\beta)^2 -\\frac{1}{2} \\lambda \\beta^\\top \\beta}\\\\\n",
    "\\end{eqnarray}$$\n",
    "\n",
    "Alright that was a wild ride, but we ended up with something pretty interesting. The most important thing here is to look at the exponent in our new expression.. does it look familiar? It should, because it's pretty much the same as the ridge loss function (or, at least, the negative of the ridge loss function)! Recall that our goal here is to maximize the probability of $\\beta$ given $y(t)$ and $x(t)$. This equation shows us that maximizing that probability is _exactly equivalent_ to minimizing the ridge loss function. The prior $P(\\beta)$ and the penalty term in the loss function $\\lambda \\beta^\\top \\beta$ _mean exactly the same thing_!"
   ]
  },
  {
   "cell_type": "code",
   "execution_count": null,
   "metadata": {},
   "outputs": [],
   "source": []
  }
 ],
 "metadata": {
  "kernelspec": {
   "display_name": "Python 3",
   "language": "python",
   "name": "python3"
  },
  "language_info": {
   "codemirror_mode": {
    "name": "ipython",
    "version": 3
   },
   "file_extension": ".py",
   "mimetype": "text/x-python",
   "name": "python",
   "nbconvert_exporter": "python",
   "pygments_lexer": "ipython3",
   "version": "3.6.8"
  }
 },
 "nbformat": 4,
 "nbformat_minor": 2
}
